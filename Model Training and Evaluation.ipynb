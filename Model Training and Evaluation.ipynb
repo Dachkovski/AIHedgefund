{
 "cells": [
  {
   "cell_type": "markdown",
   "metadata": {
    "id": "oinEVakH0mez"
   },
   "source": [
    "## Gold Prediction model with Tensorflow \n",
    "\n",
    "We're going to predict prices of Gold using a Transformer neural network"
   ]
  },
  {
   "cell_type": "markdown",
   "metadata": {
    "id": "7zz46GEL0wKq"
   },
   "source": [
    "## Import data"
   ]
  },
  {
   "cell_type": "code",
   "execution_count": 1,
   "metadata": {
    "id": "auGCuaVcxais"
   },
   "outputs": [],
   "source": [
    "import numpy as np\n",
    "import matplotlib.pyplot as plt\n",
    "import pandas as pd\n",
    "import os \n",
    "from sklearn.preprocessing import MinMaxScaler\n",
    "import yfinance as yf\n",
    "import datetime\n",
    "import tempfile\n",
    "import requests"
   ]
  },
  {
   "cell_type": "code",
   "execution_count": 2,
   "metadata": {},
   "outputs": [],
   "source": [
    "SEQ_LEN = 60  # how long of a preceeding sequence to collect for RNN\n",
    "FUTURE_PERIOD_PREDICT = 1  # how far into the future are we trying to predict?\n",
    "EPOCHS = 300  # how many passes through our data\n",
    "BATCH_SIZE = 1024  # how many batches? Try smaller batch if you're getting OOM (out of memory) errors.\n",
    "SYMBOL = 'GC=F'"
   ]
  },
  {
   "cell_type": "code",
   "execution_count": 3,
   "metadata": {},
   "outputs": [
    {
     "data": {
      "text/html": [
       "<div>\n",
       "<style scoped>\n",
       "    .dataframe tbody tr th:only-of-type {\n",
       "        vertical-align: middle;\n",
       "    }\n",
       "\n",
       "    .dataframe tbody tr th {\n",
       "        vertical-align: top;\n",
       "    }\n",
       "\n",
       "    .dataframe thead th {\n",
       "        text-align: right;\n",
       "    }\n",
       "</style>\n",
       "<table border=\"1\" class=\"dataframe\">\n",
       "  <thead>\n",
       "    <tr style=\"text-align: right;\">\n",
       "      <th></th>\n",
       "      <th>Open</th>\n",
       "      <th>High</th>\n",
       "      <th>Low</th>\n",
       "      <th>Close</th>\n",
       "      <th>Volume</th>\n",
       "      <th>Dividends</th>\n",
       "      <th>Stock Splits</th>\n",
       "    </tr>\n",
       "    <tr>\n",
       "      <th>Date</th>\n",
       "      <th></th>\n",
       "      <th></th>\n",
       "      <th></th>\n",
       "      <th></th>\n",
       "      <th></th>\n",
       "      <th></th>\n",
       "      <th></th>\n",
       "    </tr>\n",
       "  </thead>\n",
       "  <tbody>\n",
       "    <tr>\n",
       "      <th>2020-11-06</th>\n",
       "      <td>1940.800049</td>\n",
       "      <td>1958.800049</td>\n",
       "      <td>1940.800049</td>\n",
       "      <td>1950.300049</td>\n",
       "      <td>304</td>\n",
       "      <td>0</td>\n",
       "      <td>0</td>\n",
       "    </tr>\n",
       "    <tr>\n",
       "      <th>2020-11-09</th>\n",
       "      <td>1955.599976</td>\n",
       "      <td>1963.199951</td>\n",
       "      <td>1847.099976</td>\n",
       "      <td>1853.199951</td>\n",
       "      <td>745</td>\n",
       "      <td>0</td>\n",
       "      <td>0</td>\n",
       "    </tr>\n",
       "    <tr>\n",
       "      <th>2020-11-10</th>\n",
       "      <td>1879.300049</td>\n",
       "      <td>1885.300049</td>\n",
       "      <td>1871.199951</td>\n",
       "      <td>1875.400024</td>\n",
       "      <td>276</td>\n",
       "      <td>0</td>\n",
       "      <td>0</td>\n",
       "    </tr>\n",
       "    <tr>\n",
       "      <th>2020-11-11</th>\n",
       "      <td>1878.800049</td>\n",
       "      <td>1878.800049</td>\n",
       "      <td>1855.500000</td>\n",
       "      <td>1860.699951</td>\n",
       "      <td>222</td>\n",
       "      <td>0</td>\n",
       "      <td>0</td>\n",
       "    </tr>\n",
       "    <tr>\n",
       "      <th>2020-11-12</th>\n",
       "      <td>1869.000000</td>\n",
       "      <td>1878.500000</td>\n",
       "      <td>1866.599976</td>\n",
       "      <td>1872.599976</td>\n",
       "      <td>220</td>\n",
       "      <td>0</td>\n",
       "      <td>0</td>\n",
       "    </tr>\n",
       "  </tbody>\n",
       "</table>\n",
       "</div>"
      ],
      "text/plain": [
       "                   Open         High          Low        Close  Volume  \\\n",
       "Date                                                                     \n",
       "2020-11-06  1940.800049  1958.800049  1940.800049  1950.300049     304   \n",
       "2020-11-09  1955.599976  1963.199951  1847.099976  1853.199951     745   \n",
       "2020-11-10  1879.300049  1885.300049  1871.199951  1875.400024     276   \n",
       "2020-11-11  1878.800049  1878.800049  1855.500000  1860.699951     222   \n",
       "2020-11-12  1869.000000  1878.500000  1866.599976  1872.599976     220   \n",
       "\n",
       "            Dividends  Stock Splits  \n",
       "Date                                 \n",
       "2020-11-06          0             0  \n",
       "2020-11-09          0             0  \n",
       "2020-11-10          0             0  \n",
       "2020-11-11          0             0  \n",
       "2020-11-12          0             0  "
      ]
     },
     "execution_count": 3,
     "metadata": {},
     "output_type": "execute_result"
    }
   ],
   "source": [
    "def get_start_date(end_date, days):\n",
    "    '''\n",
    "    get the start date from end date\n",
    "    '''\n",
    "    return end_date - datetime.timedelta(days=days)\n",
    "\n",
    "\n",
    "\n",
    "#define the ticker symbol\n",
    "tickerSymbol = SYMBOL\n",
    "\n",
    "#get data on this ticker\n",
    "tickerData = yf.Ticker(tickerSymbol)\n",
    "\n",
    "#get the historical prices for this ticker\n",
    "end_date = datetime.date.today()\n",
    "start_date = get_start_date(end_date, SEQ_LEN)\n",
    "df = tickerData.history(period='1d', start=start_date, end=end_date)\n",
    "df.head()"
   ]
  },
  {
   "cell_type": "code",
   "execution_count": 4,
   "metadata": {
    "colab": {
     "base_uri": "https://localhost:8080/",
     "height": 34
    },
    "id": "mpx4tUy7xaiu",
    "outputId": "c2e68dce-71e5-4647-a455-c43c6d76ac76"
   },
   "outputs": [
    {
     "name": "stdout",
     "output_type": "stream",
     "text": [
      "[*********************100%***********************]  1 of 1 completed\n"
     ]
    }
   ],
   "source": [
    "# I got it from https://finance.yahoo.com/quote/GE/history?p=GE&.tsrc=fin-srch\n",
    "\n",
    "#df = pd.read_csv('2- ge.us.txt',delimiter=',',usecols=['Date','Open','High','Low','Close', 'Volume'])\n",
    "\n",
    "#define the ticker symbol\n",
    "tickerSymbol = SYMBOL\n",
    "\n",
    "#get data on this ticker\n",
    "df = yf.download(tickerSymbol, start=\"2005-01-01\", end=\"2020-10-30\")[['Open','High','Low','Close', 'Volume']]"
   ]
  },
  {
   "cell_type": "code",
   "execution_count": 5,
   "metadata": {
    "colab": {
     "base_uri": "https://localhost:8080/",
     "height": 204
    },
    "id": "bPMmthxJxaiy",
    "outputId": "b48cae8a-7a20-4746-c9e1-99c8dc1ce0b7"
   },
   "outputs": [
    {
     "data": {
      "text/html": [
       "<div>\n",
       "<style scoped>\n",
       "    .dataframe tbody tr th:only-of-type {\n",
       "        vertical-align: middle;\n",
       "    }\n",
       "\n",
       "    .dataframe tbody tr th {\n",
       "        vertical-align: top;\n",
       "    }\n",
       "\n",
       "    .dataframe thead th {\n",
       "        text-align: right;\n",
       "    }\n",
       "</style>\n",
       "<table border=\"1\" class=\"dataframe\">\n",
       "  <thead>\n",
       "    <tr style=\"text-align: right;\">\n",
       "      <th></th>\n",
       "      <th>Date</th>\n",
       "      <th>Open</th>\n",
       "      <th>High</th>\n",
       "      <th>Low</th>\n",
       "      <th>Close</th>\n",
       "      <th>Volume</th>\n",
       "    </tr>\n",
       "  </thead>\n",
       "  <tbody>\n",
       "    <tr>\n",
       "      <th>0</th>\n",
       "      <td>2005-01-03</td>\n",
       "      <td>431.000000</td>\n",
       "      <td>431.000000</td>\n",
       "      <td>431.000000</td>\n",
       "      <td>428.700012</td>\n",
       "      <td>4</td>\n",
       "    </tr>\n",
       "    <tr>\n",
       "      <th>1</th>\n",
       "      <td>2005-01-04</td>\n",
       "      <td>428.500000</td>\n",
       "      <td>428.500000</td>\n",
       "      <td>428.500000</td>\n",
       "      <td>428.500000</td>\n",
       "      <td>108</td>\n",
       "    </tr>\n",
       "    <tr>\n",
       "      <th>2</th>\n",
       "      <td>2005-01-05</td>\n",
       "      <td>425.700012</td>\n",
       "      <td>425.700012</td>\n",
       "      <td>425.700012</td>\n",
       "      <td>426.600006</td>\n",
       "      <td>2</td>\n",
       "    </tr>\n",
       "    <tr>\n",
       "      <th>3</th>\n",
       "      <td>2005-01-06</td>\n",
       "      <td>421.000000</td>\n",
       "      <td>421.000000</td>\n",
       "      <td>421.000000</td>\n",
       "      <td>421.000000</td>\n",
       "      <td>1</td>\n",
       "    </tr>\n",
       "    <tr>\n",
       "      <th>4</th>\n",
       "      <td>2005-01-07</td>\n",
       "      <td>423.700012</td>\n",
       "      <td>423.700012</td>\n",
       "      <td>418.700012</td>\n",
       "      <td>418.899994</td>\n",
       "      <td>1</td>\n",
       "    </tr>\n",
       "  </tbody>\n",
       "</table>\n",
       "</div>"
      ],
      "text/plain": [
       "        Date        Open        High         Low       Close  Volume\n",
       "0 2005-01-03  431.000000  431.000000  431.000000  428.700012       4\n",
       "1 2005-01-04  428.500000  428.500000  428.500000  428.500000     108\n",
       "2 2005-01-05  425.700012  425.700012  425.700012  426.600006       2\n",
       "3 2005-01-06  421.000000  421.000000  421.000000  421.000000       1\n",
       "4 2005-01-07  423.700012  423.700012  418.700012  418.899994       1"
      ]
     },
     "execution_count": 5,
     "metadata": {},
     "output_type": "execute_result"
    }
   ],
   "source": [
    "# Sort DataFrame by date\n",
    "df = df.reset_index().sort_values('Date')\n",
    "\n",
    "# Double check the result\n",
    "df.head()"
   ]
  },
  {
   "cell_type": "code",
   "execution_count": 6,
   "metadata": {
    "colab": {
     "base_uri": "https://localhost:8080/",
     "height": 612
    },
    "id": "GkKxc7cFxai1",
    "outputId": "727e6fb5-cd4b-4e90-ddeb-0d7be485bc99",
    "scrolled": false
   },
   "outputs": [
    {
     "data": {
      "image/png": "[encoded data removed]",
      "text/plain": [
       "<Figure size 1296x648 with 1 Axes>"
      ]
     },
     "metadata": {
      "needs_background": "light"
     },
     "output_type": "display_data"
    }
   ],
   "source": [
    "plt.figure(figsize = (18,9))\n",
    "plt.plot(range(df.shape[0]),(df['Low']+df['High'])/2.0)\n",
    "plt.xticks(range(0,df.shape[0],500),df['Date'].loc[::500],rotation=45)\n",
    "plt.xlabel('Date',fontsize=18)\n",
    "plt.ylabel('Mid Price',fontsize=18)\n",
    "plt.show()"
   ]
  },
  {
   "cell_type": "markdown",
   "metadata": {
    "id": "RxMRaOzn1kE6"
   },
   "source": [
    "## Data preprocessing "
   ]
  },
  {
   "cell_type": "code",
   "execution_count": 7,
   "metadata": {
    "id": "ZL--fSe8xai3"
   },
   "outputs": [],
   "source": [
    "df['mid'] = (df['Low']+df['High'])/2.0"
   ]
  },
  {
   "cell_type": "code",
   "execution_count": 8,
   "metadata": {
    "id": "b6Wab9Tjxai6"
   },
   "outputs": [],
   "source": [
    "RATIO_TO_PREDICT = \"mid\""
   ]
  },
  {
   "cell_type": "code",
   "execution_count": 9,
   "metadata": {
    "id": "xivEjA3nxai8"
   },
   "outputs": [],
   "source": [
    "def classify(current, future):\n",
    "    if float(future) > float(current):\n",
    "        return 1\n",
    "    else:\n",
    "        return 0"
   ]
  },
  {
   "cell_type": "code",
   "execution_count": 10,
   "metadata": {
    "id": "1Ed5lkP2xai-"
   },
   "outputs": [],
   "source": [
    "df['future'] = df[RATIO_TO_PREDICT].shift(-FUTURE_PERIOD_PREDICT)"
   ]
  },
  {
   "cell_type": "code",
   "execution_count": 11,
   "metadata": {
    "id": "wG_6iwU6xajA"
   },
   "outputs": [],
   "source": [
    "df['target'] = list(map(classify, df[RATIO_TO_PREDICT], df['future']))"
   ]
  },
  {
   "cell_type": "code",
   "execution_count": 12,
   "metadata": {
    "colab": {
     "base_uri": "https://localhost:8080/",
     "height": 204
    },
    "id": "xghpEEPlxajC",
    "outputId": "7264910c-edd5-4af8-9073-11f29856467b"
   },
   "outputs": [
    {
     "data": {
      "text/html": [
       "<div>\n",
       "<style scoped>\n",
       "    .dataframe tbody tr th:only-of-type {\n",
       "        vertical-align: middle;\n",
       "    }\n",
       "\n",
       "    .dataframe tbody tr th {\n",
       "        vertical-align: top;\n",
       "    }\n",
       "\n",
       "    .dataframe thead th {\n",
       "        text-align: right;\n",
       "    }\n",
       "</style>\n",
       "<table border=\"1\" class=\"dataframe\">\n",
       "  <thead>\n",
       "    <tr style=\"text-align: right;\">\n",
       "      <th></th>\n",
       "      <th>Date</th>\n",
       "      <th>Open</th>\n",
       "      <th>High</th>\n",
       "      <th>Low</th>\n",
       "      <th>Close</th>\n",
       "      <th>Volume</th>\n",
       "      <th>mid</th>\n",
       "      <th>future</th>\n",
       "      <th>target</th>\n",
       "    </tr>\n",
       "  </thead>\n",
       "  <tbody>\n",
       "    <tr>\n",
       "      <th>0</th>\n",
       "      <td>2005-01-03</td>\n",
       "      <td>431.000000</td>\n",
       "      <td>431.000000</td>\n",
       "      <td>431.000000</td>\n",
       "      <td>428.700012</td>\n",
       "      <td>4</td>\n",
       "      <td>431.000000</td>\n",
       "      <td>428.500000</td>\n",
       "      <td>0</td>\n",
       "    </tr>\n",
       "    <tr>\n",
       "      <th>1</th>\n",
       "      <td>2005-01-04</td>\n",
       "      <td>428.500000</td>\n",
       "      <td>428.500000</td>\n",
       "      <td>428.500000</td>\n",
       "      <td>428.500000</td>\n",
       "      <td>108</td>\n",
       "      <td>428.500000</td>\n",
       "      <td>425.700012</td>\n",
       "      <td>0</td>\n",
       "    </tr>\n",
       "    <tr>\n",
       "      <th>2</th>\n",
       "      <td>2005-01-05</td>\n",
       "      <td>425.700012</td>\n",
       "      <td>425.700012</td>\n",
       "      <td>425.700012</td>\n",
       "      <td>426.600006</td>\n",
       "      <td>2</td>\n",
       "      <td>425.700012</td>\n",
       "      <td>421.000000</td>\n",
       "      <td>0</td>\n",
       "    </tr>\n",
       "    <tr>\n",
       "      <th>3</th>\n",
       "      <td>2005-01-06</td>\n",
       "      <td>421.000000</td>\n",
       "      <td>421.000000</td>\n",
       "      <td>421.000000</td>\n",
       "      <td>421.000000</td>\n",
       "      <td>1</td>\n",
       "      <td>421.000000</td>\n",
       "      <td>421.200012</td>\n",
       "      <td>1</td>\n",
       "    </tr>\n",
       "    <tr>\n",
       "      <th>4</th>\n",
       "      <td>2005-01-07</td>\n",
       "      <td>423.700012</td>\n",
       "      <td>423.700012</td>\n",
       "      <td>418.700012</td>\n",
       "      <td>418.899994</td>\n",
       "      <td>1</td>\n",
       "      <td>421.200012</td>\n",
       "      <td>419.100006</td>\n",
       "      <td>0</td>\n",
       "    </tr>\n",
       "  </tbody>\n",
       "</table>\n",
       "</div>"
      ],
      "text/plain": [
       "        Date        Open        High         Low       Close  Volume  \\\n",
       "0 2005-01-03  431.000000  431.000000  431.000000  428.700012       4   \n",
       "1 2005-01-04  428.500000  428.500000  428.500000  428.500000     108   \n",
       "2 2005-01-05  425.700012  425.700012  425.700012  426.600006       2   \n",
       "3 2005-01-06  421.000000  421.000000  421.000000  421.000000       1   \n",
       "4 2005-01-07  423.700012  423.700012  418.700012  418.899994       1   \n",
       "\n",
       "          mid      future  target  \n",
       "0  431.000000  428.500000       0  \n",
       "1  428.500000  425.700012       0  \n",
       "2  425.700012  421.000000       0  \n",
       "3  421.000000  421.200012       1  \n",
       "4  421.200012  419.100006       0  "
      ]
     },
     "execution_count": 12,
     "metadata": {},
     "output_type": "execute_result"
    }
   ],
   "source": [
    "df.head()"
   ]
  },
  {
   "cell_type": "code",
   "execution_count": 13,
   "metadata": {
    "colab": {
     "base_uri": "https://localhost:8080/",
     "height": 204
    },
    "id": "7PAjmcStxajF",
    "outputId": "04424342-9159-46d6-ee56-93308828f846"
   },
   "outputs": [
    {
     "data": {
      "text/html": [
       "<div>\n",
       "<style scoped>\n",
       "    .dataframe tbody tr th:only-of-type {\n",
       "        vertical-align: middle;\n",
       "    }\n",
       "\n",
       "    .dataframe tbody tr th {\n",
       "        vertical-align: top;\n",
       "    }\n",
       "\n",
       "    .dataframe thead th {\n",
       "        text-align: right;\n",
       "    }\n",
       "</style>\n",
       "<table border=\"1\" class=\"dataframe\">\n",
       "  <thead>\n",
       "    <tr style=\"text-align: right;\">\n",
       "      <th></th>\n",
       "      <th>Date</th>\n",
       "      <th>Open</th>\n",
       "      <th>High</th>\n",
       "      <th>Low</th>\n",
       "      <th>Close</th>\n",
       "      <th>Volume</th>\n",
       "      <th>mid</th>\n",
       "      <th>future</th>\n",
       "      <th>target</th>\n",
       "    </tr>\n",
       "  </thead>\n",
       "  <tbody>\n",
       "    <tr>\n",
       "      <th>4028</th>\n",
       "      <td>2020-10-23</td>\n",
       "      <td>1899.900024</td>\n",
       "      <td>1913.300049</td>\n",
       "      <td>1896.199951</td>\n",
       "      <td>1902.000000</td>\n",
       "      <td>287</td>\n",
       "      <td>1904.750000</td>\n",
       "      <td>1900.250000</td>\n",
       "      <td>0</td>\n",
       "    </tr>\n",
       "    <tr>\n",
       "      <th>4029</th>\n",
       "      <td>2020-10-26</td>\n",
       "      <td>1895.500000</td>\n",
       "      <td>1907.000000</td>\n",
       "      <td>1893.500000</td>\n",
       "      <td>1902.699951</td>\n",
       "      <td>242</td>\n",
       "      <td>1900.250000</td>\n",
       "      <td>1906.600037</td>\n",
       "      <td>1</td>\n",
       "    </tr>\n",
       "    <tr>\n",
       "      <th>4030</th>\n",
       "      <td>2020-10-27</td>\n",
       "      <td>1904.599976</td>\n",
       "      <td>1908.800049</td>\n",
       "      <td>1904.400024</td>\n",
       "      <td>1908.800049</td>\n",
       "      <td>176</td>\n",
       "      <td>1906.600037</td>\n",
       "      <td>1873.549988</td>\n",
       "      <td>0</td>\n",
       "    </tr>\n",
       "    <tr>\n",
       "      <th>4031</th>\n",
       "      <td>2020-10-28</td>\n",
       "      <td>1870.900024</td>\n",
       "      <td>1876.199951</td>\n",
       "      <td>1870.900024</td>\n",
       "      <td>1876.199951</td>\n",
       "      <td>277</td>\n",
       "      <td>1873.549988</td>\n",
       "      <td>1869.300049</td>\n",
       "      <td>0</td>\n",
       "    </tr>\n",
       "    <tr>\n",
       "      <th>4032</th>\n",
       "      <td>2020-10-29</td>\n",
       "      <td>1876.099976</td>\n",
       "      <td>1879.800049</td>\n",
       "      <td>1858.800049</td>\n",
       "      <td>1865.599976</td>\n",
       "      <td>240</td>\n",
       "      <td>1869.300049</td>\n",
       "      <td>NaN</td>\n",
       "      <td>0</td>\n",
       "    </tr>\n",
       "  </tbody>\n",
       "</table>\n",
       "</div>"
      ],
      "text/plain": [
       "           Date         Open         High          Low        Close  Volume  \\\n",
       "4028 2020-10-23  1899.900024  1913.300049  1896.199951  1902.000000     287   \n",
       "4029 2020-10-26  1895.500000  1907.000000  1893.500000  1902.699951     242   \n",
       "4030 2020-10-27  1904.599976  1908.800049  1904.400024  1908.800049     176   \n",
       "4031 2020-10-28  1870.900024  1876.199951  1870.900024  1876.199951     277   \n",
       "4032 2020-10-29  1876.099976  1879.800049  1858.800049  1865.599976     240   \n",
       "\n",
       "              mid       future  target  \n",
       "4028  1904.750000  1900.250000       0  \n",
       "4029  1900.250000  1906.600037       1  \n",
       "4030  1906.600037  1873.549988       0  \n",
       "4031  1873.549988  1869.300049       0  \n",
       "4032  1869.300049          NaN       0  "
      ]
     },
     "execution_count": 13,
     "metadata": {},
     "output_type": "execute_result"
    }
   ],
   "source": [
    "df.tail()"
   ]
  },
  {
   "cell_type": "code",
   "execution_count": 14,
   "metadata": {
    "id": "RAFn8wq_xajI"
   },
   "outputs": [],
   "source": [
    "times = sorted(df.index.values)  # get the times\n",
    "last_10pct = sorted(df.index.values)[-int(0.1*len(times))]  # get the last 10% of the times\n",
    "last_20pct = sorted(df.index.values)[-int(0.2*len(times))]  # get the last 20% of the times\n",
    "\n",
    "test_df = df[(df.index >= last_10pct)]\n",
    "validation_df = df[(df.index >= last_20pct) & (df.index < last_10pct)]  \n",
    "train_df = df[(df.index < last_20pct)]  # now the train_df is all the data up to the last 20%"
   ]
  },
  {
   "cell_type": "code",
   "execution_count": 15,
   "metadata": {
    "id": "7YjKCnx9xajJ"
   },
   "outputs": [],
   "source": [
    "from collections import deque\n",
    "import numpy as np\n",
    "import random"
   ]
  },
  {
   "cell_type": "code",
   "execution_count": 16,
   "metadata": {
    "colab": {
     "base_uri": "https://localhost:8080/",
     "height": 272
    },
    "id": "iqCCaK-RxajL",
    "outputId": "438b127a-f0bb-4c26-ba16-a7d09e68cbd4"
   },
   "outputs": [
    {
     "name": "stderr",
     "output_type": "stream",
     "text": [
      "/Users/dachkovski/Library/Python/3.8/lib/python/site-packages/pandas/core/frame.py:4163: SettingWithCopyWarning: \n",
      "A value is trying to be set on a copy of a slice from a DataFrame\n",
      "\n",
      "See the caveats in the documentation: https://pandas.pydata.org/pandas-docs/stable/user_guide/indexing.html#returning-a-view-versus-a-copy\n",
      "  return super().drop(\n"
     ]
    }
   ],
   "source": [
    "train_df.drop(columns=[\"Date\", \"future\", 'Open', 'High', 'Low', 'Close', 'Volume'], inplace=True)\n",
    "validation_df.drop(columns=[\"Date\", \"future\", 'Open', 'High', 'Low', 'Close', 'Volume'], inplace=True)\n",
    "test_df.drop(columns=[\"Date\", \"future\", 'Open', 'High', 'Low', 'Close', 'Volume'], inplace=True)# don't need this anymore."
   ]
  },
  {
   "cell_type": "code",
   "execution_count": 17,
   "metadata": {
    "colab": {
     "base_uri": "https://localhost:8080/",
     "height": 204
    },
    "id": "MdZ_ULmxxajO",
    "outputId": "b1bd632a-8e76-4227-de57-f308eab0a22c"
   },
   "outputs": [
    {
     "data": {
      "text/html": [
       "<div>\n",
       "<style scoped>\n",
       "    .dataframe tbody tr th:only-of-type {\n",
       "        vertical-align: middle;\n",
       "    }\n",
       "\n",
       "    .dataframe tbody tr th {\n",
       "        vertical-align: top;\n",
       "    }\n",
       "\n",
       "    .dataframe thead th {\n",
       "        text-align: right;\n",
       "    }\n",
       "</style>\n",
       "<table border=\"1\" class=\"dataframe\">\n",
       "  <thead>\n",
       "    <tr style=\"text-align: right;\">\n",
       "      <th></th>\n",
       "      <th>mid</th>\n",
       "      <th>target</th>\n",
       "    </tr>\n",
       "  </thead>\n",
       "  <tbody>\n",
       "    <tr>\n",
       "      <th>0</th>\n",
       "      <td>431.000000</td>\n",
       "      <td>0</td>\n",
       "    </tr>\n",
       "    <tr>\n",
       "      <th>1</th>\n",
       "      <td>428.500000</td>\n",
       "      <td>0</td>\n",
       "    </tr>\n",
       "    <tr>\n",
       "      <th>2</th>\n",
       "      <td>425.700012</td>\n",
       "      <td>0</td>\n",
       "    </tr>\n",
       "    <tr>\n",
       "      <th>3</th>\n",
       "      <td>421.000000</td>\n",
       "      <td>1</td>\n",
       "    </tr>\n",
       "    <tr>\n",
       "      <th>4</th>\n",
       "      <td>421.200012</td>\n",
       "      <td>0</td>\n",
       "    </tr>\n",
       "  </tbody>\n",
       "</table>\n",
       "</div>"
      ],
      "text/plain": [
       "          mid  target\n",
       "0  431.000000       0\n",
       "1  428.500000       0\n",
       "2  425.700012       0\n",
       "3  421.000000       1\n",
       "4  421.200012       0"
      ]
     },
     "execution_count": 17,
     "metadata": {},
     "output_type": "execute_result"
    }
   ],
   "source": [
    "train_df.head()"
   ]
  },
  {
   "cell_type": "code",
   "execution_count": 18,
   "metadata": {
    "id": "zwGJhffJxajR"
   },
   "outputs": [],
   "source": [
    "train_split = train_df[RATIO_TO_PREDICT].values\n",
    "valid_split = validation_df[RATIO_TO_PREDICT].values\n",
    "test_split = test_df[RATIO_TO_PREDICT].values"
   ]
  },
  {
   "cell_type": "code",
   "execution_count": 19,
   "metadata": {
    "id": "PIAJik-ZxajU"
   },
   "outputs": [],
   "source": [
    "train_data = train_split.reshape(-1,1).copy()\n",
    "valid_data = valid_split.reshape(-1,1).copy()\n",
    "test_data = test_split.reshape(-1,1).copy()"
   ]
  },
  {
   "cell_type": "code",
   "execution_count": 20,
   "metadata": {
    "id": "cn_snhLMxajZ"
   },
   "outputs": [],
   "source": [
    "# Train the Scaler with data and smooth data\n",
    "scaler_train = MinMaxScaler()\n",
    "smoothing_window_size = SEQ_LEN\n",
    "for di in range(0,len(train_data),smoothing_window_size):\n",
    "    scaler_train.fit(train_data[di:di+smoothing_window_size])\n",
    "    train_data[di:di+smoothing_window_size] = scaler_train.transform(train_data[di:di+smoothing_window_size])\n",
    "    \n",
    "train_data = train_data.reshape(-1)"
   ]
  },
  {
   "cell_type": "code",
   "execution_count": 21,
   "metadata": {
    "id": "cn_snhLMxajZ"
   },
   "outputs": [],
   "source": [
    "scaler_test = MinMaxScaler()\n",
    "smoothing_window_size = SEQ_LEN\n",
    "for di in range(0,len(test_data),smoothing_window_size):\n",
    "    scaler_test.fit(test_data[di:di+smoothing_window_size])\n",
    "    test_data[di:di+smoothing_window_size] = scaler_test.transform(test_data[di:di+smoothing_window_size])\n",
    "test_data = test_data.reshape(-1)"
   ]
  },
  {
   "cell_type": "code",
   "execution_count": 22,
   "metadata": {
    "id": "cn_snhLMxajZ"
   },
   "outputs": [],
   "source": [
    "scaler_valid = MinMaxScaler()\n",
    "smoothing_window_size = SEQ_LEN\n",
    "for di in range(0,len(valid_data),smoothing_window_size):\n",
    "    scaler_valid.fit(valid_data[di:di+smoothing_window_size])\n",
    "    valid_data[di:di+smoothing_window_size] = scaler_valid.transform(valid_data[di:di+smoothing_window_size])\n",
    "valid_data = valid_data.reshape(-1)"
   ]
  },
  {
   "cell_type": "code",
   "execution_count": 23,
   "metadata": {
    "id": "cn_snhLMxajZ"
   },
   "outputs": [],
   "source": [
    "# Reshape both train and test data\n",
    "#test_data = scaler1.transform(test_data).reshape(-1)\n",
    "#valid_data = scaler1.transform(valid_data).reshape(-1)"
   ]
  },
  {
   "cell_type": "code",
   "execution_count": 24,
   "metadata": {
    "id": "qzVv4a0exajf"
   },
   "outputs": [],
   "source": [
    "# Used for visualization and test purposes\n",
    "all_mid_data = np.concatenate([train_data,valid_data, test_data],axis=0)"
   ]
  },
  {
   "cell_type": "code",
   "execution_count": 25,
   "metadata": {
    "id": "hJWixftkxajh"
   },
   "outputs": [],
   "source": [
    "X_train = []\n",
    "y_train = []\n",
    "for i in range(SEQ_LEN, len(train_data)):\n",
    "    X_train.append(train_data[i-SEQ_LEN:i])\n",
    "    y_train.append(train_data[i + (FUTURE_PERIOD_PREDICT-1)])\n",
    "X_train, y_train = np.array(X_train), np.array(y_train)\n",
    "\n",
    "X_train = np.reshape(X_train, (X_train.shape[0], X_train.shape[1], 1))"
   ]
  },
  {
   "cell_type": "code",
   "execution_count": 26,
   "metadata": {
    "id": "mUKjYFOfxajj"
   },
   "outputs": [],
   "source": [
    "X_valid = []\n",
    "y_valid = []\n",
    "for i in range(SEQ_LEN, len(valid_data)):\n",
    "    X_valid.append(valid_data[i-SEQ_LEN:i])\n",
    "    y_valid.append(valid_data[i+(FUTURE_PERIOD_PREDICT-1)])\n",
    "X_valid, y_valid = np.array(X_valid), np.array(y_valid)\n",
    "\n",
    "X_valid = np.reshape(X_valid, (X_valid.shape[0], X_valid.shape[1], 1))"
   ]
  },
  {
   "cell_type": "code",
   "execution_count": 27,
   "metadata": {
    "id": "QAyrELlOxajk"
   },
   "outputs": [],
   "source": [
    "X_test = []\n",
    "y_test = []\n",
    "for i in range(SEQ_LEN, len(test_data)):\n",
    "    X_test.append(test_data[i-SEQ_LEN:i])\n",
    "    y_test.append(test_data[i+(FUTURE_PERIOD_PREDICT-1)])\n",
    "    \n",
    "X_test, y_test = np.array(X_test), np.array(y_test)\n",
    "X_test = np.reshape(X_test, (X_test.shape[0], X_test.shape[1], 1))"
   ]
  },
  {
   "cell_type": "code",
   "execution_count": 28,
   "metadata": {
    "colab": {
     "base_uri": "https://localhost:8080/",
     "height": 34
    },
    "id": "6Ji_WyLaxajm",
    "outputId": "779c8375-dcb7-41b4-d2ac-a5051b470d34"
   },
   "outputs": [
    {
     "data": {
      "text/plain": [
       "(3167,)"
      ]
     },
     "execution_count": 28,
     "metadata": {},
     "output_type": "execute_result"
    }
   ],
   "source": [
    "y_train.shape"
   ]
  },
  {
   "cell_type": "code",
   "execution_count": 29,
   "metadata": {
    "colab": {
     "base_uri": "https://localhost:8080/",
     "height": 34
    },
    "id": "CNnoSUrMxajo",
    "outputId": "304c218a-0ac2-47b6-b989-6aec74279429"
   },
   "outputs": [
    {
     "data": {
      "text/plain": [
       "(343,)"
      ]
     },
     "execution_count": 29,
     "metadata": {},
     "output_type": "execute_result"
    }
   ],
   "source": [
    "y_valid.shape"
   ]
  },
  {
   "cell_type": "code",
   "execution_count": 30,
   "metadata": {
    "colab": {
     "base_uri": "https://localhost:8080/",
     "height": 349
    },
    "id": "K9o-mx1jxajr",
    "outputId": "5fb90d7e-5cba-4212-93e6-971b911b6c01"
   },
   "outputs": [
    {
     "data": {
      "image/png": "[encoded data removed]",
      "text/plain": [
       "<Figure size 1080x360 with 1 Axes>"
      ]
     },
     "metadata": {
      "needs_background": "light"
     },
     "output_type": "display_data"
    }
   ],
   "source": [
    "## show predictions\n",
    "plt.figure(figsize=(15, 5))\n",
    "\n",
    "plt.plot(np.arange(y_train.shape[0]), y_train, color='blue', label='train target')\n",
    "\n",
    "plt.plot(np.arange(y_train.shape[0], y_train.shape[0]+y_valid.shape[0]), y_valid,\n",
    "         color='gray', label='valid target')\n",
    "\n",
    "plt.plot(np.arange(y_train.shape[0]+y_valid.shape[0],\n",
    "                   y_train.shape[0]+y_valid.shape[0]+y_test.shape[0]),\n",
    "         y_test, color='black', label='test target')\n",
    "\n",
    "\n",
    "plt.title('Data Split')\n",
    "plt.xlabel('time [days]')\n",
    "plt.ylabel('normalized price')\n",
    "plt.legend(loc='best');"
   ]
  },
  {
   "cell_type": "code",
   "execution_count": 31,
   "metadata": {
    "id": "Rf4iY4xOxajx"
   },
   "outputs": [],
   "source": [
    "import time\n",
    "\n",
    "NAME = f\"{SEQ_LEN}-SEQ-{FUTURE_PERIOD_PREDICT}-PRED-{int(time.time())}\"  # a unique name for the model"
   ]
  },
  {
   "cell_type": "markdown",
   "metadata": {
    "id": "goRWqxUKxall"
   },
   "source": [
    "## Model Build (Transformer)"
   ]
  },
  {
   "cell_type": "code",
   "execution_count": 32,
   "metadata": {
    "id": "7s5HTXF9xall"
   },
   "outputs": [],
   "source": [
    "# https://www.kaggle.com/shujian/transformer-with-lstm\n",
    "\n",
    "import random, os, sys\n",
    "import numpy as np\n",
    "from tensorflow.keras.models import *\n",
    "from tensorflow.keras.layers import *\n",
    "from tensorflow.keras.callbacks import *\n",
    "from tensorflow.keras.initializers import *\n",
    "import tensorflow as tf\n",
    "from tensorflow.python.keras.layers import Layer\n",
    "from tensorflow.keras import backend as K\n",
    "\n",
    "try:\n",
    "    from dataloader import TokenList, pad_to_longest\n",
    "    # for transformer\n",
    "except: pass\n",
    "\n",
    "\n",
    "\n",
    "embed_size = 60\n",
    "\n",
    "class LayerNormalization(Layer):\n",
    "    def __init__(self, eps=1e-6, **kwargs):\n",
    "        self.eps = eps\n",
    "        super(LayerNormalization, self).__init__(**kwargs)\n",
    "    def build(self, input_shape):\n",
    "        self.gamma = self.add_weight(name='gamma', shape=input_shape[-1:],\n",
    "                                     initializer=Ones(), trainable=True)\n",
    "        self.beta = self.add_weight(name='beta', shape=input_shape[-1:],\n",
    "                                    initializer=Zeros(), trainable=True)\n",
    "        super(LayerNormalization, self).build(input_shape)\n",
    "    def call(self, x):\n",
    "        mean = K.mean(x, axis=-1, keepdims=True)\n",
    "        std = K.std(x, axis=-1, keepdims=True)\n",
    "        return self.gamma * (x - mean) / (std + self.eps) + self.beta\n",
    "    def compute_output_shape(self, input_shape):\n",
    "        return input_shape\n",
    "\n",
    "class ScaledDotProductAttention():\n",
    "    def __name__(): # Fix for Tensorflow \n",
    "        pass\n",
    "    def __init__(self, d_model, attn_dropout=0.1):\n",
    "        self.temper = np.sqrt(d_model)\n",
    "        self.dropout = Dropout(attn_dropout)\n",
    "    def __call__(self, q, k, v, mask):\n",
    "        attn = Lambda(lambda x:K.batch_dot(x[0],x[1],axes=[2,2])/self.temper)([q, k])\n",
    "        if mask is not None:\n",
    "            mmask = Lambda(lambda x:(-1e+10)*(1-x))(mask)\n",
    "            attn = Add()([attn, mmask])\n",
    "        attn = Activation('softmax')(attn)\n",
    "        attn = self.dropout(attn)\n",
    "        output = Lambda(lambda x:K.batch_dot(x[0], x[1]))([attn, v])\n",
    "        return output, attn\n",
    "\n",
    "class MultiHeadAttention():\n",
    "    # mode 0 - big martixes, faster; mode 1 - more clear implementation\n",
    "    def __init__(self, n_head, d_model, d_k, d_v, dropout, mode=0, use_norm=True):\n",
    "        self.mode = mode\n",
    "        self.n_head = n_head\n",
    "        self.d_k = d_k\n",
    "        self.d_v = d_v\n",
    "        self.dropout = dropout\n",
    "        if mode == 0:\n",
    "            self.qs_layer = Dense(n_head*d_k, use_bias=False)\n",
    "            self.ks_layer = Dense(n_head*d_k, use_bias=False)\n",
    "            self.vs_layer = Dense(n_head*d_v, use_bias=False)\n",
    "        elif mode == 1:\n",
    "            self.qs_layers = []\n",
    "            self.ks_layers = []\n",
    "            self.vs_layers = []\n",
    "            for _ in range(n_head):\n",
    "                self.qs_layers.append(TimeDistributed(Dense(d_k, use_bias=False)))\n",
    "                self.ks_layers.append(TimeDistributed(Dense(d_k, use_bias=False)))\n",
    "                self.vs_layers.append(TimeDistributed(Dense(d_v, use_bias=False)))\n",
    "        self.attention = ScaledDotProductAttention(d_model)\n",
    "        self.layer_norm = LayerNormalization() if use_norm else None\n",
    "        self.w_o = TimeDistributed(Dense(d_model))\n",
    "\n",
    "    def __call__(self, q, k, v, mask=None):\n",
    "        d_k, d_v = self.d_k, self.d_v\n",
    "        n_head = self.n_head\n",
    "\n",
    "        if self.mode == 0:\n",
    "            qs = self.qs_layer(q)  # [batch_size, len_q, n_head*d_k]\n",
    "            ks = self.ks_layer(k)\n",
    "            vs = self.vs_layer(v)\n",
    "\n",
    "            def reshape1(x):\n",
    "                s = tf.shape(x)   # [batch_size, len_q, n_head * d_k]\n",
    "                x = tf.reshape(x, [s[0], s[1], n_head, d_k])\n",
    "                x = tf.transpose(x, [2, 0, 1, 3])  \n",
    "                x = tf.reshape(x, [-1, s[1], d_k])  # [n_head * batch_size, len_q, d_k]\n",
    "                return x\n",
    "            qs = Lambda(reshape1)(qs)\n",
    "            ks = Lambda(reshape1)(ks)\n",
    "            vs = Lambda(reshape1)(vs)\n",
    "\n",
    "            if mask is not None:\n",
    "                mask = Lambda(lambda x:K.repeat_elements(x, n_head, 0))(mask)\n",
    "            head, attn = self.attention(qs, ks, vs, mask=mask)  \n",
    "                \n",
    "            def reshape2(x):\n",
    "                s = tf.shape(x)   # [n_head * batch_size, len_v, d_v]\n",
    "                x = tf.reshape(x, [n_head, -1, s[1], s[2]]) \n",
    "                x = tf.transpose(x, [1, 2, 0, 3])\n",
    "                x = tf.reshape(x, [-1, s[1], n_head*d_v])  # [batch_size, len_v, n_head * d_v]\n",
    "                return x\n",
    "            head = Lambda(reshape2)(head)\n",
    "        elif self.mode == 1:\n",
    "            heads = []; attns = []\n",
    "            for i in range(n_head):\n",
    "                qs = self.qs_layers[i](q)   \n",
    "                ks = self.ks_layers[i](k) \n",
    "                vs = self.vs_layers[i](v) \n",
    "                head, attn = self.attention(qs, ks, vs, mask)\n",
    "                heads.append(head); attns.append(attn)\n",
    "            head = Concatenate()(heads) if n_head > 1 else heads[0]\n",
    "            attn = Concatenate()(attns) if n_head > 1 else attns[0]\n",
    "\n",
    "        outputs = self.w_o(head)\n",
    "        outputs = Dropout(self.dropout)(outputs)\n",
    "        if not self.layer_norm: return outputs, attn\n",
    "        # outputs = Add()([outputs, q]) # sl: fix\n",
    "        return self.layer_norm(outputs), attn\n",
    "\n",
    "class PositionwiseFeedForward():\n",
    "    def __init__(self, d_hid, d_inner_hid, dropout=0.1):\n",
    "        self.w_1 = Conv1D(d_inner_hid, 1, activation='relu')\n",
    "        self.w_2 = Conv1D(d_hid, 1)\n",
    "        self.layer_norm = LayerNormalization()\n",
    "        self.dropout = Dropout(dropout)\n",
    "    def __call__(self, x):\n",
    "        output = self.w_1(x) \n",
    "        output = self.w_2(output)\n",
    "        output = self.dropout(output)\n",
    "        output = Add()([output, x])\n",
    "        return self.layer_norm(output)\n",
    "\n",
    "class EncoderLayer():\n",
    "    def __init__(self, d_model, d_inner_hid, n_head, d_k, d_v, dropout=0.1):\n",
    "        self.self_att_layer = MultiHeadAttention(n_head, d_model, d_k, d_v, dropout=dropout)\n",
    "        self.pos_ffn_layer  = PositionwiseFeedForward(d_model, d_inner_hid, dropout=dropout)\n",
    "    def __call__(self, enc_input, mask=None):\n",
    "        output, slf_attn = self.self_att_layer(enc_input, enc_input, enc_input, mask=mask)\n",
    "        output = self.pos_ffn_layer(output)\n",
    "        return output, slf_attn\n",
    "\n",
    "\n",
    "def GetPosEncodingMatrix(max_len, d_emb):\n",
    "    pos_enc = np.array([\n",
    "        [pos / np.power(10000, 2 * (j // 2) / d_emb) for j in range(d_emb)] \n",
    "        if pos != 0 else np.zeros(d_emb) \n",
    "            for pos in range(max_len)\n",
    "            ])\n",
    "    pos_enc[1:, 0::2] = np.sin(pos_enc[1:, 0::2]) # dim 2i\n",
    "    pos_enc[1:, 1::2] = np.cos(pos_enc[1:, 1::2]) # dim 2i+1\n",
    "    return pos_enc\n",
    "\n",
    "def GetPadMask(q, k):\n",
    "    ones = K.expand_dims(K.ones_like(q, 'float32'), -1)\n",
    "    mask = K.cast(K.expand_dims(K.not_equal(k, 0), 1), 'float32')\n",
    "    mask = K.batch_dot(ones, mask, axes=[2,1])\n",
    "    return mask\n",
    "\n",
    "def GetSubMask(s):\n",
    "    len_s = tf.shape(s)[1]\n",
    "    bs = tf.shape(s)[:1]\n",
    "    mask = K.cumsum(tf.eye(len_s, batch_shape=bs), 1)\n",
    "    return mask\n",
    "\n",
    "class Transformer():\n",
    "    def __init__(self, len_limit, embedding_matrix, d_model=embed_size, \\\n",
    "              d_inner_hid=512, n_head=10, d_k=64, d_v=64, layers=2, dropout=0.1, \\\n",
    "              share_word_emb=False, **kwargs):\n",
    "        self.name = 'Transformer'\n",
    "        self.len_limit = len_limit\n",
    "        self.src_loc_info = False # True # sl: fix later\n",
    "        self.d_model = d_model\n",
    "        self.decode_model = None\n",
    "        d_emb = d_model\n",
    "\n",
    "        pos_emb = Embedding(len_limit, d_emb, trainable=False, \\\n",
    "                            weights=[GetPosEncodingMatrix(len_limit, d_emb)])\n",
    "\n",
    "        i_word_emb = Embedding(max_features, d_emb, weights=[embedding_matrix]) # Add Kaggle provided embedding here\n",
    "\n",
    "        self.encoder = Encoder(d_model, d_inner_hid, n_head, d_k, d_v, layers, dropout, \\\n",
    "                               word_emb=i_word_emb, pos_emb=pos_emb)\n",
    "\n",
    "        \n",
    "    def get_pos_seq(self, x):\n",
    "        mask = K.cast(K.not_equal(x, 0), 'int32')\n",
    "        pos = K.cumsum(K.ones_like(x, 'int32'), 1)\n",
    "        return pos * mask\n",
    "\n",
    "    def compile(self, active_layers=999):\n",
    "        src_seq_input = Input(shape=(None, ))\n",
    "        x = Embedding(max_features, embed_size, weights=[embedding_matrix])(src_seq_input)\n",
    "        \n",
    "        # LSTM before attention layers\n",
    "        x = Bidirectional(LSTM(128, return_sequences=True))(x)\n",
    "        x = Bidirectional(LSTM(64, return_sequences=True))(x) \n",
    "        \n",
    "        x, slf_attn = MultiHeadAttention(n_head=3, d_model=300, d_k=64, d_v=64, dropout=0.1)(x, x, x)\n",
    "        \n",
    "        avg_pool = GlobalAveragePooling1D()(x)\n",
    "        max_pool = GlobalMaxPooling1D()(x)\n",
    "        conc = concatenate([avg_pool, max_pool])\n",
    "        conc = Dense(64, activation=\"relu\")(conc)\n",
    "        x = Dense(1, activation=\"sigmoid\")(conc)   \n",
    "        \n",
    "        #self.model = keras.models.Model(inputs=src_seq_input, outputs=x)\n",
    "        self.model = Model(inputs=src_seq_input, outputs=x)\n",
    "        self.model.compile(optimizer = 'adam', loss = 'mean_squared_error', metrics=['accuracy'])\n",
    "        \n"
   ]
  },
  {
   "cell_type": "code",
   "execution_count": 33,
   "metadata": {},
   "outputs": [],
   "source": [
    "# Fix for Tensorflow Model saving\n",
    "def get_config(self):\n",
    "    cfg = super().get_config()\n",
    "    return cfg "
   ]
  },
  {
   "cell_type": "code",
   "execution_count": 34,
   "metadata": {
    "id": "nLD7FxFoxalm"
   },
   "outputs": [],
   "source": [
    "def build_model():\n",
    "    inp = Input(shape = (SEQ_LEN, 1), name=\"keys\")\n",
    "    \n",
    "    # LSTM before attention layers\n",
    "    x = Bidirectional(LSTM(128, return_sequences=True))(inp)\n",
    "    x = Bidirectional(LSTM(64, return_sequences=True))(x) \n",
    "        \n",
    "    x, slf_attn = MultiHeadAttention(n_head=3, d_model=300, d_k=64, d_v=64, dropout=0.1)(x, x, x)\n",
    "        \n",
    "    avg_pool = GlobalAveragePooling1D()(x)\n",
    "    max_pool = GlobalMaxPooling1D()(x)\n",
    "    conc = concatenate([avg_pool, max_pool])\n",
    "    conc = Dense(64, activation=\"relu\")(conc)\n",
    "    x = Dense(1, activation=\"sigmoid\", name=\"keys_output\")(conc)      \n",
    "\n",
    "    model = Model(inputs = inp, outputs = x, name=NAME)\n",
    "    model.compile(\n",
    "        loss = \"mean_squared_error\", \n",
    "        #optimizer = Adam(lr = config[\"lr\"], decay = config[\"lr_d\"]), \n",
    "        optimizer = \"adam\")\n",
    "    \n",
    "    # Save entire model to a HDF5 file\n",
    "    #model.save('my_model.h5')\n",
    "    \n",
    "    return model"
   ]
  },
  {
   "cell_type": "code",
   "execution_count": 35,
   "metadata": {
    "id": "_K9Kk4BMxaln"
   },
   "outputs": [],
   "source": [
    "multi_head = build_model()"
   ]
  },
  {
   "cell_type": "code",
   "execution_count": 36,
   "metadata": {
    "colab": {
     "base_uri": "https://localhost:8080/",
     "height": 952
    },
    "id": "ZvzB_DR4xalo",
    "outputId": "3358992b-99c3-4de3-f5b6-ce84fe7cca82"
   },
   "outputs": [
    {
     "name": "stdout",
     "output_type": "stream",
     "text": [
      "Model: \"60-SEQ-1-PRED-1609949066\"\n",
      "__________________________________________________________________________________________________\n",
      "Layer (type)                    Output Shape         Param #     Connected to                     \n",
      "==================================================================================================\n",
      "keys (InputLayer)               [(None, 60, 1)]      0                                            \n",
      "__________________________________________________________________________________________________\n",
      "bidirectional (Bidirectional)   (None, 60, 256)      133120      keys[0][0]                       \n",
      "__________________________________________________________________________________________________\n",
      "bidirectional_1 (Bidirectional) (None, 60, 128)      164352      bidirectional[0][0]              \n",
      "__________________________________________________________________________________________________\n",
      "dense (Dense)                   (None, 60, 192)      24576       bidirectional_1[0][0]            \n",
      "__________________________________________________________________________________________________\n",
      "dense_1 (Dense)                 (None, 60, 192)      24576       bidirectional_1[0][0]            \n",
      "__________________________________________________________________________________________________\n",
      "lambda (Lambda)                 (None, None, 64)     0           dense[0][0]                      \n",
      "__________________________________________________________________________________________________\n",
      "lambda_1 (Lambda)               (None, None, 64)     0           dense_1[0][0]                    \n",
      "__________________________________________________________________________________________________\n",
      "lambda_3 (Lambda)               (None, None, None)   0           lambda[0][0]                     \n",
      "                                                                 lambda_1[0][0]                   \n",
      "__________________________________________________________________________________________________\n",
      "activation (Activation)         (None, None, None)   0           lambda_3[0][0]                   \n",
      "__________________________________________________________________________________________________\n",
      "dense_2 (Dense)                 (None, 60, 192)      24576       bidirectional_1[0][0]            \n",
      "__________________________________________________________________________________________________\n",
      "dropout (Dropout)               (None, None, None)   0           activation[0][0]                 \n",
      "__________________________________________________________________________________________________\n",
      "lambda_2 (Lambda)               (None, None, 64)     0           dense_2[0][0]                    \n",
      "__________________________________________________________________________________________________\n",
      "lambda_4 (Lambda)               (None, None, 64)     0           dropout[0][0]                    \n",
      "                                                                 lambda_2[0][0]                   \n",
      "__________________________________________________________________________________________________\n",
      "lambda_5 (Lambda)               (None, None, 192)    0           lambda_4[0][0]                   \n",
      "__________________________________________________________________________________________________\n",
      "time_distributed (TimeDistribut (None, None, 300)    57900       lambda_5[0][0]                   \n",
      "__________________________________________________________________________________________________\n",
      "dropout_1 (Dropout)             (None, None, 300)    0           time_distributed[0][0]           \n",
      "__________________________________________________________________________________________________\n",
      "layer_normalization (LayerNorma (None, None, 300)    600         dropout_1[0][0]                  \n",
      "__________________________________________________________________________________________________\n",
      "global_average_pooling1d (Globa (None, 300)          0           layer_normalization[0][0]        \n",
      "__________________________________________________________________________________________________\n",
      "global_max_pooling1d (GlobalMax (None, 300)          0           layer_normalization[0][0]        \n",
      "__________________________________________________________________________________________________\n",
      "concatenate (Concatenate)       (None, 600)          0           global_average_pooling1d[0][0]   \n",
      "                                                                 global_max_pooling1d[0][0]       \n",
      "__________________________________________________________________________________________________\n",
      "dense_4 (Dense)                 (None, 64)           38464       concatenate[0][0]                \n",
      "__________________________________________________________________________________________________\n",
      "keys_output (Dense)             (None, 1)            65          dense_4[0][0]                    \n",
      "==================================================================================================\n",
      "Total params: 468,229\n",
      "Trainable params: 468,229\n",
      "Non-trainable params: 0\n",
      "__________________________________________________________________________________________________\n"
     ]
    }
   ],
   "source": [
    "multi_head.summary()"
   ]
  },
  {
   "cell_type": "markdown",
   "metadata": {},
   "source": [
    "## Model Training"
   ]
  },
  {
   "cell_type": "code",
   "execution_count": null,
   "metadata": {
    "colab": {
     "base_uri": "https://localhost:8080/",
     "height": 391
    },
    "id": "uYTI8rxqxalp",
    "outputId": "fdde7893-0f27-4c5c-dc81-86ab4f7951e0"
   },
   "outputs": [
    {
     "name": "stdout",
     "output_type": "stream",
     "text": [
      "Epoch 1/300\n",
      "4/4 [==============================] - 16s 3s/step - loss: 0.2088 - val_loss: 0.3149\n",
      "Epoch 2/300\n",
      "4/4 [==============================] - 8s 2s/step - loss: 0.2974 - val_loss: 0.1142\n",
      "Epoch 3/300\n",
      "4/4 [==============================] - 9s 2s/step - loss: 0.0959 - val_loss: 0.1023\n",
      "Epoch 4/300\n",
      "4/4 [==============================] - 11s 2s/step - loss: 0.0803 - val_loss: 0.0857\n",
      "Epoch 5/300\n",
      "4/4 [==============================] - 9s 2s/step - loss: 0.0775 - val_loss: 0.0779\n",
      "Epoch 6/300\n",
      "4/4 [==============================] - 8s 2s/step - loss: 0.0791 - val_loss: 0.0848\n",
      "Epoch 7/300\n",
      "4/4 [==============================] - 8s 2s/step - loss: 0.0741 - val_loss: 0.0889\n",
      "Epoch 8/300\n",
      "4/4 [==============================] - 9s 2s/step - loss: 0.0729 - val_loss: 0.0745\n",
      "Epoch 9/300\n",
      "4/4 [==============================] - 9s 2s/step - loss: 0.0748 - val_loss: 0.0796\n",
      "Epoch 10/300\n",
      "4/4 [==============================] - 8s 2s/step - loss: 0.0702 - val_loss: 0.0744\n",
      "Epoch 11/300\n",
      "4/4 [==============================] - 8s 2s/step - loss: 0.0674 - val_loss: 0.0850\n",
      "Epoch 12/300\n",
      "4/4 [==============================] - 8s 2s/step - loss: 0.0714 - val_loss: 0.0745\n",
      "Epoch 13/300\n",
      "4/4 [==============================] - 8s 2s/step - loss: 0.0652 - val_loss: 0.0625\n",
      "Epoch 14/300\n",
      "4/4 [==============================] - 8s 2s/step - loss: 0.0628 - val_loss: 0.0608\n",
      "Epoch 15/300\n",
      "4/4 [==============================] - 8s 2s/step - loss: 0.0651 - val_loss: 0.0605\n",
      "Epoch 16/300\n",
      "4/4 [==============================] - 8s 2s/step - loss: 0.0583 - val_loss: 0.0567\n",
      "Epoch 17/300\n",
      "4/4 [==============================] - 11s 3s/step - loss: 0.0553 - val_loss: 0.0472\n",
      "Epoch 18/300\n",
      "4/4 [==============================] - 8s 2s/step - loss: 0.0532 - val_loss: 0.0412\n",
      "Epoch 19/300\n",
      "4/4 [==============================] - 8s 2s/step - loss: 0.0486 - val_loss: 0.0361\n",
      "Epoch 20/300\n",
      "4/4 [==============================] - 8s 2s/step - loss: 0.0445 - val_loss: 0.0334\n",
      "Epoch 21/300\n",
      "4/4 [==============================] - 8s 2s/step - loss: 0.0373 - val_loss: 0.0303\n",
      "Epoch 22/300\n",
      "4/4 [==============================] - 8s 2s/step - loss: 0.0364 - val_loss: 0.0351\n",
      "Epoch 23/300\n",
      "4/4 [==============================] - 8s 2s/step - loss: 0.0335 - val_loss: 0.0304\n",
      "Epoch 24/300\n",
      "4/4 [==============================] - 8s 2s/step - loss: 0.0308 - val_loss: 0.0314\n",
      "Epoch 25/300\n",
      "4/4 [==============================] - 8s 2s/step - loss: 0.0286 - val_loss: 0.0301\n",
      "Epoch 26/300\n",
      "4/4 [==============================] - 8s 2s/step - loss: 0.0264 - val_loss: 0.0339\n",
      "Epoch 27/300\n",
      "4/4 [==============================] - 8s 2s/step - loss: 0.0245 - val_loss: 0.0375\n",
      "Epoch 28/300\n",
      "4/4 [==============================] - 8s 2s/step - loss: 0.0228 - val_loss: 0.0415\n",
      "Epoch 29/300\n",
      "4/4 [==============================] - 8s 2s/step - loss: 0.0216 - val_loss: 0.0220\n",
      "Epoch 30/300\n",
      "4/4 [==============================] - 8s 2s/step - loss: 0.0293 - val_loss: 0.0504\n",
      "Epoch 31/300\n",
      "4/4 [==============================] - 8s 2s/step - loss: 0.0269 - val_loss: 0.0520\n",
      "Epoch 32/300\n"
     ]
    }
   ],
   "source": [
    "history = multi_head.fit(X_train, y_train,\n",
    "                    batch_size=BATCH_SIZE,\n",
    "                    epochs=EPOCHS,\n",
    "                    validation_data=(X_valid, y_valid),\n",
    "                    #callbacks = [checkpoint , lr_reduce]\n",
    "             )"
   ]
  },
  {
   "cell_type": "code",
   "execution_count": null,
   "metadata": {},
   "outputs": [],
   "source": [
    "# save model in simple tensorflow serving model folder\n",
    "export_path = './backend/models/transformer/1'\n",
    "tf.keras.models.save_model(\n",
    "    multi_head,\n",
    "    export_path,\n",
    "    overwrite=True,     \n",
    "    #include_optimizer=True,\n",
    "    #save_format='tf',\n",
    "    #signatures=None,\n",
    "    #options=None\n",
    ")"
   ]
  },
  {
   "cell_type": "markdown",
   "metadata": {},
   "source": [
    "## Tests"
   ]
  },
  {
   "cell_type": "markdown",
   "metadata": {},
   "source": [
    "#### Loss and Accuracy"
   ]
  },
  {
   "cell_type": "code",
   "execution_count": null,
   "metadata": {},
   "outputs": [],
   "source": [
    "print(history.history.keys())\n",
    "plt.plot(history.history['loss'])\n",
    "plt.plot(history.history['val_loss'])\n",
    "plt.title('model loss')\n",
    "plt.ylabel('loss')\n",
    "plt.xlabel('epoch')\n",
    "plt.legend(['train', 'validation'], loc='upper left')\n",
    "plt.show()"
   ]
  },
  {
   "cell_type": "code",
   "execution_count": null,
   "metadata": {},
   "outputs": [],
   "source": [
    "multi_head.predict(X_test)"
   ]
  },
  {
   "cell_type": "code",
   "execution_count": null,
   "metadata": {
    "id": "87b3dFT2xalr",
    "outputId": "a942a5a7-3d84-4740-97b3-9fe5c02c97bd"
   },
   "outputs": [],
   "source": [
    "predicted_stock_price_multi_head = multi_head.predict(X_test)"
   ]
  },
  {
   "cell_type": "code",
   "execution_count": null,
   "metadata": {
    "id": "7NTKopU_xals"
   },
   "outputs": [],
   "source": [
    "predicted_stock_price_multi_head = np.vstack((np.full((60,1), np.nan), predicted_stock_price_multi_head))"
   ]
  },
  {
   "cell_type": "code",
   "execution_count": null,
   "metadata": {},
   "outputs": [],
   "source": [
    "df = pd.DataFrame({\n",
    "          'day':np.arange(1,61),\n",
    "          'actual': test_data[-61:-1].reshape(-1),\n",
    "          'predicted': predicted_stock_price_multi_head[-61:-1].reshape(-1),\n",
    "          'actual_shifted': test_data[-62:-2].reshape(-1),})"
   ]
  },
  {
   "cell_type": "code",
   "execution_count": null,
   "metadata": {},
   "outputs": [],
   "source": [
    "df['correct?'] = np.where(((df['actual'] > df['actual_shifted']) & (df['predicted'] > df['actual_shifted']))\\\n",
    "                          |((df['actual'] < df['actual_shifted']) & (df['predicted'] < df['actual_shifted'])), True, False)"
   ]
  },
  {
   "cell_type": "code",
   "execution_count": null,
   "metadata": {},
   "outputs": [],
   "source": [
    "# accuracy\n",
    "df['correct?'].mean().round(2)"
   ]
  },
  {
   "cell_type": "markdown",
   "metadata": {},
   "source": [
    "#### Visuals"
   ]
  },
  {
   "cell_type": "code",
   "execution_count": null,
   "metadata": {
    "id": "9UgEoi4jxalt",
    "outputId": "b5f9c023-f9f1-455e-a1c5-7cd4c5554cda"
   },
   "outputs": [],
   "source": [
    "plt.figure(figsize = (18,9))\n",
    "plt.plot(test_data.reshape(-1, 1), color = 'black', label = 'Gold Price')\n",
    "plt.plot(predicted_stock_price_multi_head, color = 'green', label = 'Predicted Gold Mid Price')\n",
    "plt.title('Gold Scaled Actual and Prediction Mid Intraday Price', fontsize=30)\n",
    "plt.xlabel('Days')\n",
    "plt.ylabel('Gold Mid Price')\n",
    "plt.legend(fontsize=18)\n",
    "plt.show()"
   ]
  },
  {
   "cell_type": "code",
   "execution_count": null,
   "metadata": {
    "id": "9UgEoi4jxalt",
    "outputId": "b5f9c023-f9f1-455e-a1c5-7cd4c5554cda"
   },
   "outputs": [],
   "source": [
    "plt.figure(figsize = (18,9))\n",
    "plt.plot(np.arange(60), test_data[-60:], color = 'black', label = 'Gold Price')\n",
    "plt.plot(61, predicted_stock_price_multi_head[-1], 'r+', color = 'red', markersize=12, label = 'Predicted Gold Mid Price', )\n",
    "plt.title('Gold Mid Price Prediction for next day', fontsize=30)\n",
    "plt.xlabel('Days')\n",
    "plt.ylabel('Gold Mid Price')\n",
    "plt.legend(fontsize=18)\n",
    "plt.show()"
   ]
  },
  {
   "cell_type": "markdown",
   "metadata": {},
   "source": [
    "#### API Test"
   ]
  },
  {
   "cell_type": "code",
   "execution_count": null,
   "metadata": {},
   "outputs": [],
   "source": [
    "endpoint = \"http://127.0.0.1:8500\" # backend api\n",
    "json_data = {\"model_name\": \"default\", \"data\": {\"keys\": [X_train[-1].tolist()]} }\n",
    "result = requests.post(endpoint, json=json_data)\n",
    "print(result.json())\n",
    "pred_output = result.json()['keys_output'][0][0]\n",
    "pred_output"
   ]
  },
  {
   "cell_type": "code",
   "execution_count": null,
   "metadata": {},
   "outputs": [],
   "source": []
  }
 ],
 "metadata": {
  "colab": {
   "name": "StockPrediction.ipynb",
   "provenance": []
  },
  "kernelspec": {
   "display_name": "Python 3",
   "language": "python",
   "name": "python3"
  },
  "language_info": {
   "codemirror_mode": {
    "name": "ipython",
    "version": 3
   },
   "file_extension": ".py",
   "mimetype": "text/x-python",
   "name": "python",
   "nbconvert_exporter": "python",
   "pygments_lexer": "ipython3",
   "version": "3.8.2"
  }
 },
 "nbformat": 4,
 "nbformat_minor": 1
}
